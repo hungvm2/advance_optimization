{
 "cells": [
  {
   "cell_type": "markdown",
   "metadata": {},
   "source": [
    "# I. Load dữ liệu giá nhà"
   ]
  },
  {
   "cell_type": "code",
   "execution_count": 1,
   "metadata": {
    "_cell_guid": "b1076dfc-b9ad-4769-8c92-a6c4dae69d19",
    "_uuid": "8f2839f25d086af736a60e9eeb907d3b93b6e0e5"
   },
   "outputs": [],
   "source": [
    "import numpy as np \n",
    "import pandas as pd\n",
    "import sklearn\n",
    "from sklearn.model_selection import train_test_split\n",
    "from sklearn import preprocessing"
   ]
  },
  {
   "cell_type": "code",
   "execution_count": 2,
   "metadata": {},
   "outputs": [],
   "source": [
    "import matplotlib\n",
    "matplotlib.rcParams['figure.figsize'] = [12, 6]\n",
    "matplotlib.rc('xtick', labelsize=15) \n",
    "matplotlib.rc('ytick', labelsize=15) "
   ]
  },
  {
   "cell_type": "code",
   "execution_count": 3,
   "metadata": {},
   "outputs": [],
   "source": [
    "dat = pd.read_csv('kc_house_data_cleaned.csv')\n",
    "N = dat.shape[0]\n",
    "y = np.array(dat['price']).reshape((N, 1)) * 10e-6\n",
    "X = dat.to_numpy(dat.drop(columns=['price'], inplace=True)) "
   ]
  },
  {
   "cell_type": "code",
   "execution_count": 4,
   "metadata": {},
   "outputs": [],
   "source": [
    "X_train, X_test, y_train, y_test = train_test_split(X, y, test_size=0.2, random_state=42)"
   ]
  },
  {
   "cell_type": "code",
   "execution_count": 5,
   "metadata": {
    "scrolled": true
   },
   "outputs": [
    {
     "name": "stdout",
     "output_type": "stream",
     "text": [
      "(17277, 15)\n",
      "(17277, 1)\n",
      "(4320, 15)\n",
      "(4320, 1)\n"
     ]
    }
   ],
   "source": [
    "print(X_train.shape)\n",
    "print(y_train.shape)\n",
    "print(X_test.shape)\n",
    "print(y_test.shape)"
   ]
  },
  {
   "cell_type": "markdown",
   "metadata": {},
   "source": [
    "# II. Các hàm và thư viện cần thiết"
   ]
  },
  {
   "cell_type": "code",
   "execution_count": 6,
   "metadata": {},
   "outputs": [],
   "source": [
    "from sklearn.utils import shuffle\n",
    "import time\n",
    "import matplotlib.pyplot as plt"
   ]
  },
  {
   "cell_type": "code",
   "execution_count": 7,
   "metadata": {},
   "outputs": [],
   "source": [
    "def draw_cost_curve(model):\n",
    "    cost_t_values = model.cost_t_values\n",
    "    cost_v_values = model.cost_v_values\n",
    "    plt.plot(cost_t_values)\n",
    "    plt.plot(cost_v_values)\n",
    "    plt.show()"
   ]
  },
  {
   "cell_type": "code",
   "execution_count": 8,
   "metadata": {},
   "outputs": [],
   "source": [
    "def conclusion(model, score=None):\n",
    "    if score is None: score = model.score\n",
    "    print(\"R^2 score on the training set: \", score(X_train, y_train))\n",
    "    print(\"R^2 score on the testing set: \", score(X_test, y_test))\n",
    "    print(\"Time for fitting: \", model.fitting_time)\n",
    "    if model.benchmark_enabled:\n",
    "        print(\"Cost on the training set: \", model.cost_t_values[-1])\n",
    "        print(\"Cost on the testing set: \", model.cost_v_values[-1])\n",
    "        draw_cost_curve(model)"
   ]
  },
  {
   "cell_type": "markdown",
   "metadata": {},
   "source": [
    "# III. Sử dụng phương pháp tối ưu & mô hình Hồi quy tuyến tính từ thư viện Scikit-learn:"
   ]
  },
  {
   "cell_type": "code",
   "execution_count": 9,
   "metadata": {},
   "outputs": [],
   "source": [
    "from sklearn.linear_model import LinearRegression as SKLinearRegression"
   ]
  },
  {
   "cell_type": "code",
   "execution_count": 10,
   "metadata": {
    "_uuid": "19d364d29be43bc856b31f0ddec1d5a50a88e2c5"
   },
   "outputs": [
    {
     "data": {
      "text/html": [
       "<style>#sk-container-id-1 {color: black;background-color: white;}#sk-container-id-1 pre{padding: 0;}#sk-container-id-1 div.sk-toggleable {background-color: white;}#sk-container-id-1 label.sk-toggleable__label {cursor: pointer;display: block;width: 100%;margin-bottom: 0;padding: 0.3em;box-sizing: border-box;text-align: center;}#sk-container-id-1 label.sk-toggleable__label-arrow:before {content: \"▸\";float: left;margin-right: 0.25em;color: #696969;}#sk-container-id-1 label.sk-toggleable__label-arrow:hover:before {color: black;}#sk-container-id-1 div.sk-estimator:hover label.sk-toggleable__label-arrow:before {color: black;}#sk-container-id-1 div.sk-toggleable__content {max-height: 0;max-width: 0;overflow: hidden;text-align: left;background-color: #f0f8ff;}#sk-container-id-1 div.sk-toggleable__content pre {margin: 0.2em;color: black;border-radius: 0.25em;background-color: #f0f8ff;}#sk-container-id-1 input.sk-toggleable__control:checked~div.sk-toggleable__content {max-height: 200px;max-width: 100%;overflow: auto;}#sk-container-id-1 input.sk-toggleable__control:checked~label.sk-toggleable__label-arrow:before {content: \"▾\";}#sk-container-id-1 div.sk-estimator input.sk-toggleable__control:checked~label.sk-toggleable__label {background-color: #d4ebff;}#sk-container-id-1 div.sk-label input.sk-toggleable__control:checked~label.sk-toggleable__label {background-color: #d4ebff;}#sk-container-id-1 input.sk-hidden--visually {border: 0;clip: rect(1px 1px 1px 1px);clip: rect(1px, 1px, 1px, 1px);height: 1px;margin: -1px;overflow: hidden;padding: 0;position: absolute;width: 1px;}#sk-container-id-1 div.sk-estimator {font-family: monospace;background-color: #f0f8ff;border: 1px dotted black;border-radius: 0.25em;box-sizing: border-box;margin-bottom: 0.5em;}#sk-container-id-1 div.sk-estimator:hover {background-color: #d4ebff;}#sk-container-id-1 div.sk-parallel-item::after {content: \"\";width: 100%;border-bottom: 1px solid gray;flex-grow: 1;}#sk-container-id-1 div.sk-label:hover label.sk-toggleable__label {background-color: #d4ebff;}#sk-container-id-1 div.sk-serial::before {content: \"\";position: absolute;border-left: 1px solid gray;box-sizing: border-box;top: 0;bottom: 0;left: 50%;z-index: 0;}#sk-container-id-1 div.sk-serial {display: flex;flex-direction: column;align-items: center;background-color: white;padding-right: 0.2em;padding-left: 0.2em;position: relative;}#sk-container-id-1 div.sk-item {position: relative;z-index: 1;}#sk-container-id-1 div.sk-parallel {display: flex;align-items: stretch;justify-content: center;background-color: white;position: relative;}#sk-container-id-1 div.sk-item::before, #sk-container-id-1 div.sk-parallel-item::before {content: \"\";position: absolute;border-left: 1px solid gray;box-sizing: border-box;top: 0;bottom: 0;left: 50%;z-index: -1;}#sk-container-id-1 div.sk-parallel-item {display: flex;flex-direction: column;z-index: 1;position: relative;background-color: white;}#sk-container-id-1 div.sk-parallel-item:first-child::after {align-self: flex-end;width: 50%;}#sk-container-id-1 div.sk-parallel-item:last-child::after {align-self: flex-start;width: 50%;}#sk-container-id-1 div.sk-parallel-item:only-child::after {width: 0;}#sk-container-id-1 div.sk-dashed-wrapped {border: 1px dashed gray;margin: 0 0.4em 0.5em 0.4em;box-sizing: border-box;padding-bottom: 0.4em;background-color: white;}#sk-container-id-1 div.sk-label label {font-family: monospace;font-weight: bold;display: inline-block;line-height: 1.2em;}#sk-container-id-1 div.sk-label-container {text-align: center;}#sk-container-id-1 div.sk-container {/* jupyter's `normalize.less` sets `[hidden] { display: none; }` but bootstrap.min.css set `[hidden] { display: none !important; }` so we also need the `!important` here to be able to override the default hidden behavior on the sphinx rendered scikit-learn.org. See: https://github.com/scikit-learn/scikit-learn/issues/21755 */display: inline-block !important;position: relative;}#sk-container-id-1 div.sk-text-repr-fallback {display: none;}</style><div id=\"sk-container-id-1\" class=\"sk-top-container\"><div class=\"sk-text-repr-fallback\"><pre>LinearRegression()</pre><b>In a Jupyter environment, please rerun this cell to show the HTML representation or trust the notebook. <br />On GitHub, the HTML representation is unable to render, please try loading this page with nbviewer.org.</b></div><div class=\"sk-container\" hidden><div class=\"sk-item\"><div class=\"sk-estimator sk-toggleable\"><input class=\"sk-toggleable__control sk-hidden--visually\" id=\"sk-estimator-id-1\" type=\"checkbox\" checked><label for=\"sk-estimator-id-1\" class=\"sk-toggleable__label sk-toggleable__label-arrow\">LinearRegression</label><div class=\"sk-toggleable__content\"><pre>LinearRegression()</pre></div></div></div></div></div>"
      ],
      "text/plain": [
       "LinearRegression()"
      ]
     },
     "execution_count": 10,
     "metadata": {},
     "output_type": "execute_result"
    }
   ],
   "source": [
    "model = SKLinearRegression()\n",
    "model.fit(X_train,y_train)"
   ]
  },
  {
   "cell_type": "code",
   "execution_count": 11,
   "metadata": {},
   "outputs": [
    {
     "name": "stdout",
     "output_type": "stream",
     "text": [
      "MSE :  4.750285518416846\n",
      "Score :  0.6352003363726961\n",
      "Fitting time:  0.006754159927368164\n"
     ]
    }
   ],
   "source": [
    "from sklearn.metrics import mean_squared_error, r2_score\n",
    "\n",
    "start_time = time.time()\n",
    "y_pred = model.predict(X_test)\n",
    "total_time = time.time() - start_time\n",
    "print(\"MSE : \",mean_squared_error(y_pred , y_test))\n",
    "print(\"Score : \",r2_score(y_test, y_pred))\n",
    "print(\"Fitting time: \", total_time)"
   ]
  },
  {
   "cell_type": "markdown",
   "metadata": {},
   "source": [
    "# IV. Tự xây dựng các thuật toán tối ưu Gradient Descent, Stochastic Gradient Descent và Mini Batch Gradient Descent cho mô hình Linear Regression"
   ]
  },
  {
   "cell_type": "markdown",
   "metadata": {},
   "source": [
    "### Linear Regression"
   ]
  },
  {
   "cell_type": "code",
   "execution_count": 12,
   "metadata": {},
   "outputs": [],
   "source": [
    "class LinearRegression:\n",
    "    def __init__(self, optimizer, step_size, steps=100, benchmark_enabled=True, \n",
    "                 alpha=0.5, beta=0.5, backtracking_enabled=False, tol=10e-4, early_stopping_enabled=False):\n",
    "        self.optimizer = optimizer\n",
    "        self.step_size = step_size\n",
    "        self.steps = steps\n",
    "        self.params = None\n",
    "        self.cost_t_values = list()\n",
    "        self.cost_v_values = list()\n",
    "        self.fitting_time = None\n",
    "        self.benchmark_enabled = benchmark_enabled\n",
    "        self.alpha = alpha\n",
    "        self.beta = beta\n",
    "        self.backtracking_enabled = backtracking_enabled\n",
    "        self.early_stopping_enabled = early_stopping_enabled\n",
    "        self.tol = tol\n",
    "        \n",
    "    def fit(self, X_train, y_train, X_test, y_test):\n",
    "        start_time = time.time()\n",
    "        X_train = np.concatenate((X_train, np.ones((X_train.shape[0], 1))), axis=1)\n",
    "        X_test = np.concatenate((X_test, np.ones((X_test.shape[0], 1))), axis=1)\n",
    "        self.params = self.optimizer(X_train, y_train, X_test, y_test, self)\n",
    "        self.fitting_time = time.time() - start_time\n",
    "        \n",
    "    def predict(self, X):\n",
    "        X = np.concatenate((X, np.ones((X.shape[0], 1))), axis=1)\n",
    "        y_pred = np.dot(X, self.params)\n",
    "        return y_pred\n",
    "    \n",
    "    @staticmethod\n",
    "    def gradient(X, y_pred, y):\n",
    "        N = y.shape[0]\n",
    "        return 2 / N * np.dot(X.transpose(),(y_pred - y))\n",
    "    \n",
    "    @staticmethod\n",
    "    def hessian(X):\n",
    "        N = X.shape[0]\n",
    "        return np.squeeze(2 / N * np.dot(X.transpose(), X))[()]\n",
    "    \n",
    "    @staticmethod\n",
    "    def cost(y, y_pred):\n",
    "        N = y.shape[0]\n",
    "        residual = y - y_pred\n",
    "        return 1/N * np.squeeze(np.dot(residual.transpose(), residual))[()]\n",
    "    \n",
    "    def score(self, X, y):\n",
    "        y_pred = self.predict(X)\n",
    "        residual = y - y_pred\n",
    "        rss = np.squeeze(np.dot(residual.transpose(), residual))[()]\n",
    "        y_mean = np.expand_dims(np.mean(y) * np.ones(y.shape[0]), axis=1)\n",
    "        total = y - y_mean\n",
    "        tss = np.squeeze(np.dot(total.transpose() , total))[()]\n",
    "        r_score = 1 - rss/tss\n",
    "        return r_score"
   ]
  },
  {
   "cell_type": "markdown",
   "metadata": {},
   "source": [
    "### Gradient Descent"
   ]
  },
  {
   "cell_type": "code",
   "execution_count": 13,
   "metadata": {},
   "outputs": [],
   "source": [
    "def gradient_descent(X_train, y_train, X_test, y_test, m):\n",
    "    gradient, cost, cost_t_values, cost_v_values = m.gradient, m.cost, m.cost_t_values, m.cost_v_values\n",
    "    alpha, beta = m.alpha, m.beta\n",
    "    params = np.ones((X_train.shape[1], 1))\n",
    "    cost_t_value = cost(y_train, np.dot(X_train, params))\n",
    "    step_numb = 0\n",
    "    max_step_inside = 10\n",
    "    while step_numb < m.steps:\n",
    "        step_size = m.step_size\n",
    "        y_pred = np.dot(X_train, params)\n",
    "        if m.benchmark_enabled:\n",
    "            prev_cost = cost_t_value\n",
    "            \n",
    "        grad = gradient(X_train, y_pred, y_train)\n",
    "        params -= step_size * grad\n",
    "        if m.benchmark_enabled or m.backtracking_enabled:\n",
    "            cost_t_value = cost(y_train, y_pred)\n",
    "            if step_numb > 50 and cost_t_value > prev_cost:\n",
    "                break\n",
    "            cost_t_values.append(cost_t_value)\n",
    "            cost_v_value = cost(y_test, np.dot(X_test, params))\n",
    "            cost_v_values.append(cost_v_value)\n",
    "    \n",
    "        # Backtracking to shrink step_size\n",
    "        if m.backtracking_enabled:\n",
    "            grad_norm = np.linalg.norm(grad)\n",
    "            margin = alpha * step_size * grad_norm**2\n",
    "            step_inside = 0\n",
    "            while cost_t_value > prev_cost - margin:\n",
    "                step_size *= beta\n",
    "                margin = alpha * step_size * grad_norm**2\n",
    "                step_inside += 1\n",
    "                if step_inside > max_step_inside: \n",
    "                    break\n",
    "                    \n",
    "        params -= step_size * grad\n",
    "        if m.early_stopping_enabled and np.max(np.absolute(grad)) < m.tol: \n",
    "            break\n",
    "        step_numb += 1\n",
    "        \n",
    "    if m.early_stopping_enabled:\n",
    "        print(f\"Total steps with step size {m.step_size}: \", step_numb)\n",
    "#         print(\"Max abs component of grad: \", np.max(np.absolute(grad)))\n",
    "    return params"
   ]
  },
  {
   "cell_type": "code",
   "execution_count": 14,
   "metadata": {},
   "outputs": [
    {
     "name": "stdout",
     "output_type": "stream",
     "text": [
      "Total steps with step size 0.1:  14722\n"
     ]
    }
   ],
   "source": [
    "lreg_with_gd = LinearRegression(gradient_descent, 10e-2, 20000, benchmark_enabled=True, backtracking_enabled=True, tol=10e-4, early_stopping_enabled=True)\n",
    "lreg_with_gd.fit(X_train,y_train, X_test, y_test)"
   ]
  },
  {
   "cell_type": "code",
   "execution_count": 15,
   "metadata": {
    "scrolled": true
   },
   "outputs": [
    {
     "name": "stdout",
     "output_type": "stream",
     "text": [
      "R^2 score on the training set:  0.6589318752047024\n",
      "R^2 score on the testing set:  0.635671687407656\n",
      "Time for fitting:  5.148625135421753\n",
      "Cost on the training set:  4.642962030038979\n",
      "Cost on the testing set:  4.744147268677881\n"
     ]
    },
    {
     "data": {
      "image/png": "[encoded data removed]",
      "text/plain": [
       "<Figure size 432x288 with 1 Axes>"
      ]
     },
     "metadata": {
      "needs_background": "light"
     },
     "output_type": "display_data"
    }
   ],
   "source": [
    "conclusion(lreg_with_gd)"
   ]
  },
  {
   "cell_type": "code",
   "execution_count": 16,
   "metadata": {},
   "outputs": [
    {
     "name": "stdout",
     "output_type": "stream",
     "text": [
      "Total steps with step size 0.1:  14721\n"
     ]
    }
   ],
   "source": [
    "lreg_with_gd = LinearRegression(gradient_descent, 10e-2, 20000, benchmark_enabled=True, backtracking_enabled=False, tol=10e-4, early_stopping_enabled=True)\n",
    "lreg_with_gd.fit(X_train,y_train, X_test, y_test)"
   ]
  },
  {
   "cell_type": "code",
   "execution_count": 17,
   "metadata": {},
   "outputs": [
    {
     "name": "stdout",
     "output_type": "stream",
     "text": [
      "R^2 score on the training set:  0.6589318668239491\n",
      "R^2 score on the testing set:  0.6356717251981343\n",
      "Time for fitting:  4.459596872329712\n",
      "Cost on the training set:  4.642962144165779\n",
      "Cost on the testing set:  4.744146776552455\n"
     ]
    },
    {
     "data": {
      "image/png": "[encoded data removed]",
      "text/plain": [
       "<Figure size 432x288 with 1 Axes>"
      ]
     },
     "metadata": {
      "needs_background": "light"
     },
     "output_type": "display_data"
    }
   ],
   "source": [
    "conclusion(lreg_with_gd)"
   ]
  },
  {
   "cell_type": "markdown",
   "metadata": {},
   "source": [
    "### Accelerated gradient"
   ]
  },
  {
   "cell_type": "code",
   "execution_count": 18,
   "metadata": {},
   "outputs": [],
   "source": [
    "def accelerated_gradient_descent(X_train, y_train, X_test, y_test, m):\n",
    "    gradient, cost, cost_t_values, cost_v_values = m.gradient, m.cost, m.cost_t_values, m.cost_v_values\n",
    "    alpha, beta = m.alpha, m.beta\n",
    "    params = np.ones((X_train.shape[1], 1))\n",
    "    cost_t_value = cost(y_train, np.dot(X_train, params))\n",
    "    step_numb = 0\n",
    "    max_step_inside = 10\n",
    "    prev_params = params\n",
    "    step_size = m.step_size\n",
    "    \n",
    "    while step_numb < m.steps:\n",
    "        y_pred = np.dot(X_train, params)\n",
    "        if m.benchmark_enabled:\n",
    "            prev_cost = cost_t_value\n",
    "        \n",
    "        if step_numb == 0:\n",
    "            y_pred = np.dot(X_train, params)\n",
    "            grad = gradient(X_train, y_pred, y_train)\n",
    "            prev_params = params\n",
    "            # h(x) = 0 => prox(x) = x\n",
    "            params -= step_size * grad\n",
    "        else:\n",
    "            v = params + (step_numb - 2)/(step_numb + 1) * (params - prev_params)\n",
    "            y_pred = np.dot(X_train, v)\n",
    "            grad = gradient(X_train, y_pred, y_train)\n",
    "            prev_params = params\n",
    "            # h(x) = 0 => prox(x) = x\n",
    "            params = v - step_size * grad\n",
    "                     \n",
    "        if m.benchmark_enabled or m.backtracking_enabled:\n",
    "            cost_t_value = cost(y_train, np.dot(X_train, params))\n",
    "            cost_t_values.append(cost_t_value)\n",
    "            cost_v_value = cost(y_test, np.dot(X_test, params))\n",
    "            cost_v_values.append(cost_v_value)\n",
    "    \n",
    "        # Backtracking to shrink step_size\n",
    "        if m.backtracking_enabled and step_numb > 0:\n",
    "            diff = params - v\n",
    "            diff_norm_sq = np.squeeze(np.dot(diff.transpose(), diff))\n",
    "            first_comp = np.squeeze(np.dot(grad.transpose(), diff))\n",
    "            margin = first_comp + 1 / (2 * step_size) * diff_norm_sq\n",
    "            step_inside = 0\n",
    "            while cost_t_value > prev_cost + margin:\n",
    "                step_size *= beta\n",
    "                margin = first_comp + 1 / (2 * step_size) * diff_norm_sq\n",
    "                step_inside += 1\n",
    "                if step_inside > max_step_inside: \n",
    "                    break\n",
    "                    \n",
    "        if m.early_stopping_enabled and np.max(np.absolute(grad)) < m.tol: \n",
    "            break\n",
    "        step_numb += 1\n",
    "        \n",
    "    if m.early_stopping_enabled:\n",
    "        print(f\"Total steps with step size {m.step_size}: \", step_numb)\n",
    "#         print(\"Max abs component of grad: \", np.max(np.absolute(grad)))\n",
    "    return params"
   ]
  },
  {
   "cell_type": "code",
   "execution_count": 19,
   "metadata": {
    "scrolled": true
   },
   "outputs": [
    {
     "name": "stdout",
     "output_type": "stream",
     "text": [
      "Total steps with step size 0.001:  7207\n",
      "R^2 score on the training set:  0.6589687450195474\n",
      "R^2 score on the testing set:  0.6350618889560156\n",
      "Time for fitting:  3.0782930850982666\n",
      "Cost on the training set:  4.642459893003338\n",
      "Cost on the testing set:  4.752088329175991\n"
     ]
    },
    {
     "data": {
      "image/png": "[encoded data removed]",
      "text/plain": [
       "<Figure size 432x288 with 1 Axes>"
      ]
     },
     "metadata": {
      "needs_background": "light"
     },
     "output_type": "display_data"
    }
   ],
   "source": [
    "lreg_with_acce_gd = LinearRegression(accelerated_gradient_descent, step_size=10e-4, steps=20000, benchmark_enabled=True, beta=0.9, backtracking_enabled=False, tol=10e-4, early_stopping_enabled=True)\n",
    "lreg_with_acce_gd.fit(X_train,y_train, X_test, y_test)\n",
    "conclusion(lreg_with_acce_gd)"
   ]
  },
  {
   "cell_type": "markdown",
   "metadata": {},
   "source": [
    "### Newton"
   ]
  },
  {
   "cell_type": "code",
   "execution_count": 20,
   "metadata": {},
   "outputs": [],
   "source": [
    "def newton(X_train, y_train, X_test, y_test, m):\n",
    "    gradient, cost, cost_t_values, cost_v_values = m.gradient, m.cost, m.cost_t_values, m.cost_v_values\n",
    "    alpha, beta = m.alpha, m.beta\n",
    "    params = np.ones((X_train.shape[1], 1))\n",
    "    cost_t_value = cost(y_train, np.dot(X_train, params))\n",
    "    step_numb = 0\n",
    "    max_step_inside = 10\n",
    "    hess = m.hessian(X_train)\n",
    "    inv_hess = np.linalg.inv(hess)\n",
    "    while step_numb < m.steps:\n",
    "        t = m.step_size\n",
    "        y_pred = np.dot(X_train, params)\n",
    "        if m.benchmark_enabled:\n",
    "            prev_cost = cost_t_value\n",
    "        grad = gradient(X_train, y_pred, y_train)\n",
    "\n",
    "        if m.benchmark_enabled or m.backtracking_enabled:\n",
    "            cost_t_value = cost(y_train, y_pred)\n",
    "            cost_t_values.append(cost_t_value)\n",
    "            cost_v_value = cost(y_test, np.dot(X_test, params))\n",
    "            cost_v_values.append(cost_v_value)\n",
    "    \n",
    "        # Backtracking to shrink step_size\n",
    "        if m.backtracking_enabled:\n",
    "            v = -inv_hess.dot(grad)\n",
    "            t = 1\n",
    "            margin = alpha * t * np.dot(grad.transpose() , v)\n",
    "            step_inside = 0\n",
    "            while cost_t_value > prev_cost - margin:\n",
    "                t *= beta\n",
    "                margin = alpha * t * np.dot(grad.transpose() , v)\n",
    "                step_inside += 1\n",
    "                if step_inside > max_step_inside: break\n",
    "        params -= t * np.dot(inv_hess , grad)\n",
    "        if m.early_stopping_enabled and np.max(np.absolute(grad)) < m.tol: \n",
    "            break\n",
    "        step_numb += 1\n",
    "    if m.early_stopping_enabled:\n",
    "        print(f\"Total steps with step size {m.step_size}: \", step_numb)\n",
    "#         print(\"Max abs component of grad: \", np.max(np.absolute(grad)))\n",
    "    return params"
   ]
  },
  {
   "cell_type": "code",
   "execution_count": 21,
   "metadata": {},
   "outputs": [
    {
     "name": "stdout",
     "output_type": "stream",
     "text": [
      "Total steps with step size 0.1:  117\n"
     ]
    }
   ],
   "source": [
    "lreg_with_newton = LinearRegression(newton, 10e-2, 1000, benchmark_enabled=True, backtracking_enabled=False, tol=10e-6, early_stopping_enabled=True)\n",
    "lreg_with_newton.fit(X_train,y_train, X_test, y_test)"
   ]
  },
  {
   "cell_type": "code",
   "execution_count": 22,
   "metadata": {},
   "outputs": [
    {
     "name": "stdout",
     "output_type": "stream",
     "text": [
      "R^2 score on the training set:  0.658982166216785\n",
      "R^2 score on the testing set:  0.6351981932904815\n",
      "Time for fitting:  0.06351542472839355\n",
      "Cost on the training set:  4.642277190212211\n",
      "Cost on the testing set:  4.750313160729387\n"
     ]
    },
    {
     "data": {
      "image/png": "[encoded data removed]",
      "text/plain": [
       "<Figure size 432x288 with 1 Axes>"
      ]
     },
     "metadata": {
      "needs_background": "light"
     },
     "output_type": "display_data"
    }
   ],
   "source": [
    "conclusion(lreg_with_newton)"
   ]
  },
  {
   "cell_type": "markdown",
   "metadata": {},
   "source": [
    "# V. So sánh các thuật toán với các cấu hình khác nhau:"
   ]
  },
  {
   "cell_type": "code",
   "execution_count": 23,
   "metadata": {},
   "outputs": [],
   "source": [
    "def draw_cost_curves_of_multi_models(model_list, model_names):\n",
    "    for model in model_list:\n",
    "        plt.plot(model.cost_v_values)\n",
    "    plt.legend(model_names)\n",
    "#     plt.xlabel(\"Cost\")\n",
    "#     plt.ylabel(\"Number of steps\")\n",
    "    plt.show()"
   ]
  },
  {
   "cell_type": "code",
   "execution_count": 24,
   "metadata": {},
   "outputs": [],
   "source": [
    "def draw_time_bar_of_multi_models(model_list, model_names):\n",
    "    values = list()\n",
    "    for i, model in enumerate(model_list):\n",
    "        values.append(model.fitting_time)\n",
    "        print(f\"Fitting time of {model_names[i]}: \", model.fitting_time)\n",
    "    plt.bar(model_names, values, color ='maroon', width = 0.4)\n",
    "#     plt.ylabel(\"Time (in seconds)\")\n",
    "#     plt.xlabel(\"Model\")\n",
    "    plt.show()"
   ]
  },
  {
   "cell_type": "markdown",
   "metadata": {},
   "source": [
    "## So sánh GD với các cấu hình khác nhau:"
   ]
  },
  {
   "cell_type": "markdown",
   "metadata": {},
   "source": [
    "### Không sử dụng backtracking:"
   ]
  },
  {
   "cell_type": "code",
   "execution_count": 25,
   "metadata": {},
   "outputs": [],
   "source": [
    "step_sizes = [10e0, 10e-1, 10e-2, 10e-3, 10e-4, 10e-5]\n",
    "gd_model_list = list()\n",
    "gd_model_names = list()"
   ]
  },
  {
   "cell_type": "code",
   "execution_count": 26,
   "metadata": {},
   "outputs": [
    {
     "name": "stdout",
     "output_type": "stream",
     "text": [
      "Total steps with step size 10.0:  51\n",
      "Total steps with step size 1.0:  51\n",
      "Total steps with step size 0.1:  14721\n",
      "Total steps with step size 0.01:  20000\n",
      "Total steps with step size 0.001:  20000\n",
      "Total steps with step size 0.0001:  20000\n"
     ]
    }
   ],
   "source": [
    "for step_size in step_sizes:\n",
    "    model = LinearRegression(gradient_descent, step_size=step_size, steps=20000, benchmark_enabled=True, backtracking_enabled=False, tol=10e-4, early_stopping_enabled=True)\n",
    "    model.fit(X_train,y_train, X_test, y_test)\n",
    "    if model.cost_t_values[-1] > model.cost_t_values[-2]:\n",
    "        continue\n",
    "    gd_model_list.append(model)\n",
    "    gd_model_names.append(f\"Step size = {step_size}\")\n"
   ]
  },
  {
   "cell_type": "code",
   "execution_count": 27,
   "metadata": {
    "scrolled": true
   },
   "outputs": [
    {
     "data": {
      "image/png": "[encoded data removed]",
      "text/plain": [
       "<Figure size 432x288 with 1 Axes>"
      ]
     },
     "metadata": {
      "needs_background": "light"
     },
     "output_type": "display_data"
    }
   ],
   "source": [
    "draw_cost_curves_of_multi_models(gd_model_list, gd_model_names)"
   ]
  },
  {
   "cell_type": "markdown",
   "metadata": {},
   "source": [
    "### Có backtracking:"
   ]
  },
  {
   "cell_type": "code",
   "execution_count": 28,
   "metadata": {},
   "outputs": [],
   "source": [
    "step_sizes = [10e1, 10e0, 10e-1, 10e-2, 10e-3, 10e-4, 10e-5]\n",
    "gdbt_model_list = list()\n",
    "gdbt_model_names = list()"
   ]
  },
  {
   "cell_type": "code",
   "execution_count": 29,
   "metadata": {},
   "outputs": [
    {
     "name": "stdout",
     "output_type": "stream",
     "text": [
      "Total steps with step size 100.0:  51\n",
      "Total steps with step size 10.0:  51\n",
      "Total steps with step size 1.0:  51\n",
      "Total steps with step size 0.1:  14722\n",
      "Total steps with step size 0.01:  20000\n",
      "Total steps with step size 0.001:  20000\n",
      "Total steps with step size 0.0001:  20000\n"
     ]
    }
   ],
   "source": [
    "for step_size in step_sizes:\n",
    "    model = LinearRegression(gradient_descent, step_size=step_size, steps=20000, benchmark_enabled=True, backtracking_enabled=True, tol=10e-4, early_stopping_enabled=True)\n",
    "    model.fit(X_train,y_train, X_test, y_test)\n",
    "    if model.cost_t_values[-1] > model.cost_t_values[-2]:\n",
    "        continue\n",
    "    gdbt_model_list.append(model)\n",
    "    gdbt_model_names.append(f\"Step size = {step_size}\")"
   ]
  },
  {
   "cell_type": "code",
   "execution_count": 30,
   "metadata": {
    "scrolled": true
   },
   "outputs": [
    {
     "data": {
      "image/png": "[encoded data removed]",
      "text/plain": [
       "<Figure size 432x288 with 1 Axes>"
      ]
     },
     "metadata": {
      "needs_background": "light"
     },
     "output_type": "display_data"
    }
   ],
   "source": [
    "draw_cost_curves_of_multi_models(gdbt_model_list, gdbt_model_names)"
   ]
  },
  {
   "cell_type": "markdown",
   "metadata": {},
   "source": [
    "### Đo thời gian sử dụng và ko sử dụng backtracking với step_size tối ưu:"
   ]
  },
  {
   "cell_type": "code",
   "execution_count": 31,
   "metadata": {},
   "outputs": [
    {
     "name": "stdout",
     "output_type": "stream",
     "text": [
      "Total steps with step size 0.1:  14721\n",
      "Total steps with step size 0.1:  14722\n",
      "Fitting time of GD:  5.852631568908691\n",
      "Fitting time of GD with BT:  6.099782943725586\n"
     ]
    },
    {
     "data": {
      "image/png": "[encoded data removed]",
      "text/plain": [
       "<Figure size 432x288 with 1 Axes>"
      ]
     },
     "metadata": {
      "needs_background": "light"
     },
     "output_type": "display_data"
    }
   ],
   "source": [
    "step_size = 10e-2\n",
    "gd = LinearRegression(gradient_descent, step_size=step_size, steps=20000, benchmark_enabled=True, backtracking_enabled=False, tol=10e-4, early_stopping_enabled=True)\n",
    "gd.fit(X_train,y_train, X_test, y_test)\n",
    "gdbt = LinearRegression(gradient_descent, step_size=step_size, steps=20000, benchmark_enabled=True, backtracking_enabled=True, tol=10e-4, early_stopping_enabled=True)\n",
    "gdbt.fit(X_train,y_train, X_test, y_test)\n",
    "draw_time_bar_of_multi_models([gd, gdbt], [\"GD\", \"GD with BT\"])"
   ]
  },
  {
   "cell_type": "markdown",
   "metadata": {},
   "source": [
    "### So sánh tốc độ giảm loss theo số steps:"
   ]
  },
  {
   "cell_type": "code",
   "execution_count": 32,
   "metadata": {},
   "outputs": [
    {
     "data": {
      "image/png": "[encoded data removed]",
      "text/plain": [
       "<Figure size 432x288 with 1 Axes>"
      ]
     },
     "metadata": {
      "needs_background": "light"
     },
     "output_type": "display_data"
    }
   ],
   "source": [
    "steps = 1000\n",
    "step_size = 10e-2\n",
    "\n",
    "lreg_with_gd = LinearRegression(gradient_descent, step_size=step_size, steps=steps, benchmark_enabled=True, backtracking_enabled=False, tol=10e-4, early_stopping_enabled=False)\n",
    "lreg_with_gd.fit(X_train,y_train, X_test, y_test)\n",
    "\n",
    "lreg_with_acce_gd = LinearRegression(accelerated_gradient_descent, step_size=step_size, steps=steps, benchmark_enabled=True, beta=0.9, backtracking_enabled=False, tol=10e-4, early_stopping_enabled=False)\n",
    "lreg_with_acce_gd.fit(X_train,y_train, X_test, y_test)\n",
    "\n",
    "lreg_with_newton = LinearRegression(newton, step_size=step_size, steps=steps, benchmark_enabled=True, backtracking_enabled=False, tol=10e-4, early_stopping_enabled=False)\n",
    "lreg_with_newton.fit(X_train,y_train, X_test, y_test)\n",
    "\n",
    "draw_cost_curves_of_multi_models([lreg_with_gd, lreg_with_acce_gd, lreg_with_newton], [\"GD\", \"Accelerated GD\", \"Newton\"])"
   ]
  },
  {
   "cell_type": "markdown",
   "metadata": {},
   "source": [
    "### So sánh tốc độ thực thi sau khi loss giảm đến 1 ngưỡng cố định:"
   ]
  },
  {
   "cell_type": "code",
   "execution_count": 33,
   "metadata": {},
   "outputs": [
    {
     "name": "stdout",
     "output_type": "stream",
     "text": [
      "Total steps with step size 0.1:  20000\n",
      "Total steps with step size 0.1:  4696\n",
      "Total steps with step size 0.1:  117\n"
     ]
    },
    {
     "data": {
      "image/png": "[encoded data removed]",
      "text/plain": [
       "<Figure size 720x360 with 1 Axes>"
      ]
     },
     "metadata": {
      "needs_background": "light"
     },
     "output_type": "display_data"
    }
   ],
   "source": [
    "step_size = 10e-2\n",
    "steps = 20000\n",
    "tol=10e-6\n",
    "early_stopping_enabled = True\n",
    "lreg_with_gd = LinearRegression(gradient_descent, step_size=step_size, steps=steps, benchmark_enabled=True, backtracking_enabled=False, tol=tol, early_stopping_enabled=early_stopping_enabled)\n",
    "lreg_with_gd.fit(X_train,y_train, X_test, y_test)\n",
    "\n",
    "lreg_with_acce_gd = LinearRegression(accelerated_gradient_descent, step_size=step_size, steps=steps, benchmark_enabled=True, beta=0.9, backtracking_enabled=False, tol=tol, early_stopping_enabled=early_stopping_enabled)\n",
    "lreg_with_acce_gd.fit(X_train,y_train, X_test, y_test)\n",
    "\n",
    "lreg_with_newton = LinearRegression(newton, step_size=step_size, steps=steps, benchmark_enabled=True, backtracking_enabled=False, tol=tol, early_stopping_enabled=early_stopping_enabled)\n",
    "lreg_with_newton.fit(X_train,y_train, X_test, y_test)\n",
    "\n",
    "def draw_time_bar():\n",
    "    optimizers = [\"GD\", \"Accelerated GD\", \"Newton\"]\n",
    "    values = [lreg_with_gd.fitting_time, lreg_with_acce_gd.fitting_time, lreg_with_newton.fitting_time]\n",
    "    fig = plt.figure(figsize = (10, 5))\n",
    "    plt.bar(optimizers, values, color ='maroon',\n",
    "            width = 0.4)\n",
    "    plt.ylabel(\"Time (in seconds)\")\n",
    "    plt.show()\n",
    "draw_time_bar()"
   ]
  },
  {
   "cell_type": "code",
   "execution_count": null,
   "metadata": {},
   "outputs": [],
   "source": []
  },
  {
   "cell_type": "code",
   "execution_count": null,
   "metadata": {},
   "outputs": [],
   "source": []
  }
 ],
 "metadata": {
  "kernelspec": {
   "display_name": "Python [conda env:common]",
   "language": "python",
   "name": "conda-env-common-py"
  },
  "language_info": {
   "codemirror_mode": {
    "name": "ipython",
    "version": 3
   },
   "file_extension": ".py",
   "mimetype": "text/x-python",
   "name": "python",
   "nbconvert_exporter": "python",
   "pygments_lexer": "ipython3",
   "version": "3.9.7"
  }
 },
 "nbformat": 4,
 "nbformat_minor": 1
}
