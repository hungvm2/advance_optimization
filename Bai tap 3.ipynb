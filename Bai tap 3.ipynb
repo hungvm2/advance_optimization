{
 "cells": [
  {
   "cell_type": "markdown",
   "metadata": {},
   "source": [
    "## I. Load dữ liệu giá nhà"
   ]
  },
  {
   "cell_type": "code",
   "execution_count": 1,
   "metadata": {
    "_cell_guid": "b1076dfc-b9ad-4769-8c92-a6c4dae69d19",
    "_uuid": "8f2839f25d086af736a60e9eeb907d3b93b6e0e5"
   },
   "outputs": [],
   "source": [
    "import numpy as np \n",
    "import pandas as pd\n",
    "import sklearn\n",
    "from sklearn.model_selection import train_test_split\n",
    "from sklearn import preprocessing"
   ]
  },
  {
   "cell_type": "code",
   "execution_count": 2,
   "metadata": {},
   "outputs": [],
   "source": [
    "def load_data(file_name):\n",
    "    dat = pd.read_csv(file_name)\n",
    "    N = dat.shape[0]\n",
    "\n",
    "    yrs_old = np.zeros(N)\n",
    "    yrs_reno = np.zeros(N)\n",
    "    for i in range(N):\n",
    "        year_sell = int(dat['date'][i][-4:])\n",
    "        yrs_old[i] = year_sell - dat['yr_built'][i]\n",
    "        if dat['yr_renovated'][i] == 0:\n",
    "            yrs_reno[i] = 0\n",
    "        else:\n",
    "            yrs_reno[i] = year_sell - dat['yr_renovated'][i]\n",
    "\n",
    "    y = np.array(dat['price']).reshape((N, 1)) * 10e-6\n",
    "\n",
    "    yrs_old = yrs_old.reshape((N, 1))\n",
    "    yrs_reno = yrs_reno.reshape((N, 1))\n",
    "    X = dat.to_numpy(dat.drop(columns=['id', 'date', 'price', 'yr_built', \\\n",
    "                                       'yr_renovated'], inplace=True)) # 'zipcode', 'lat', 'long\n",
    "    X = np.concatenate((X, yrs_old, yrs_reno), axis=1)\n",
    "    X = (X - np.min(X, axis=0)) / (np.max(X, axis=0) - np.min(X, axis=0))\n",
    "\n",
    "    return X, y"
   ]
  },
  {
   "cell_type": "code",
   "execution_count": 3,
   "metadata": {
    "_cell_guid": "79c7e3d0-c299-4dcb-8224-4455121ee9b0",
    "_uuid": "d629ff2d2480ee46fbb7e2d37f6b5fab8052498a",
    "scrolled": false
   },
   "outputs": [],
   "source": [
    "X, y = load_data('kc_house_data.csv')"
   ]
  },
  {
   "cell_type": "code",
   "execution_count": 4,
   "metadata": {},
   "outputs": [],
   "source": [
    "X_train, X_test, y_train, y_test = train_test_split(X, y, test_size=0.2, random_state=42)"
   ]
  },
  {
   "cell_type": "code",
   "execution_count": 5,
   "metadata": {
    "scrolled": true
   },
   "outputs": [
    {
     "name": "stdout",
     "output_type": "stream",
     "text": [
      "(17277, 18)\n",
      "(17277, 1)\n",
      "(4320, 18)\n",
      "(4320, 1)\n"
     ]
    }
   ],
   "source": [
    "print(X_train.shape)\n",
    "print(y_train.shape)\n",
    "print(X_test.shape)\n",
    "print(y_test.shape)"
   ]
  },
  {
   "cell_type": "markdown",
   "metadata": {},
   "source": [
    "## III. Các hàm và thư viện cần thiết"
   ]
  },
  {
   "cell_type": "code",
   "execution_count": 6,
   "metadata": {},
   "outputs": [],
   "source": [
    "BENCHMARK_ENABLED = True"
   ]
  },
  {
   "cell_type": "code",
   "execution_count": 7,
   "metadata": {},
   "outputs": [],
   "source": [
    "from sklearn.utils import shuffle\n",
    "import time\n",
    "import matplotlib.pyplot as plt"
   ]
  },
  {
   "cell_type": "code",
   "execution_count": 92,
   "metadata": {},
   "outputs": [],
   "source": [
    "def draw_cost_curve(model):\n",
    "#     cost_t_values = model.cost_t_values\n",
    "    cost_v_values = model.cost_v_values\n",
    "#     plt.plot(cost_t_values)\n",
    "    plt.plot(cost_v_values)\n",
    "    plt.show()"
   ]
  },
  {
   "cell_type": "code",
   "execution_count": 76,
   "metadata": {},
   "outputs": [],
   "source": [
    "def conclusion(model, score=None):\n",
    "    if score is None: score = model.score\n",
    "    print(\"===================\")\n",
    "    # print(\"R^2 score on the training set: \", score(X_train, y_train))\n",
    "    y_pred = model.predict(X_test)\n",
    "    print(\"R^2 score on the testing set: \", score(X_test, y_test))\n",
    "    print(\"Time for fitting: \", model.fitting_time)\n",
    "    if model.benchmark_enabled:\n",
    "        # print(\"Cost on the training set: \", model.cost_t_values[-1])\n",
    "        print(\"Cost on the testing set: \", model.cost_v_values[-1])\n",
    "        draw_cost_curve(model)"
   ]
  },
  {
   "cell_type": "markdown",
   "metadata": {},
   "source": [
    "## IV. Sử dụng phương pháp tối ưu & mô hình Hồi quy tuyến tính từ thư viện Scikit-learn:"
   ]
  },
  {
   "cell_type": "code",
   "execution_count": 77,
   "metadata": {},
   "outputs": [],
   "source": [
    "from sklearn.linear_model import LinearRegression as SKLinearRegression"
   ]
  },
  {
   "cell_type": "code",
   "execution_count": 78,
   "metadata": {
    "_uuid": "19d364d29be43bc856b31f0ddec1d5a50a88e2c5"
   },
   "outputs": [
    {
     "data": {
      "text/html": [
       "<style>#sk-container-id-3 {color: black;background-color: white;}#sk-container-id-3 pre{padding: 0;}#sk-container-id-3 div.sk-toggleable {background-color: white;}#sk-container-id-3 label.sk-toggleable__label {cursor: pointer;display: block;width: 100%;margin-bottom: 0;padding: 0.3em;box-sizing: border-box;text-align: center;}#sk-container-id-3 label.sk-toggleable__label-arrow:before {content: \"▸\";float: left;margin-right: 0.25em;color: #696969;}#sk-container-id-3 label.sk-toggleable__label-arrow:hover:before {color: black;}#sk-container-id-3 div.sk-estimator:hover label.sk-toggleable__label-arrow:before {color: black;}#sk-container-id-3 div.sk-toggleable__content {max-height: 0;max-width: 0;overflow: hidden;text-align: left;background-color: #f0f8ff;}#sk-container-id-3 div.sk-toggleable__content pre {margin: 0.2em;color: black;border-radius: 0.25em;background-color: #f0f8ff;}#sk-container-id-3 input.sk-toggleable__control:checked~div.sk-toggleable__content {max-height: 200px;max-width: 100%;overflow: auto;}#sk-container-id-3 input.sk-toggleable__control:checked~label.sk-toggleable__label-arrow:before {content: \"▾\";}#sk-container-id-3 div.sk-estimator input.sk-toggleable__control:checked~label.sk-toggleable__label {background-color: #d4ebff;}#sk-container-id-3 div.sk-label input.sk-toggleable__control:checked~label.sk-toggleable__label {background-color: #d4ebff;}#sk-container-id-3 input.sk-hidden--visually {border: 0;clip: rect(1px 1px 1px 1px);clip: rect(1px, 1px, 1px, 1px);height: 1px;margin: -1px;overflow: hidden;padding: 0;position: absolute;width: 1px;}#sk-container-id-3 div.sk-estimator {font-family: monospace;background-color: #f0f8ff;border: 1px dotted black;border-radius: 0.25em;box-sizing: border-box;margin-bottom: 0.5em;}#sk-container-id-3 div.sk-estimator:hover {background-color: #d4ebff;}#sk-container-id-3 div.sk-parallel-item::after {content: \"\";width: 100%;border-bottom: 1px solid gray;flex-grow: 1;}#sk-container-id-3 div.sk-label:hover label.sk-toggleable__label {background-color: #d4ebff;}#sk-container-id-3 div.sk-serial::before {content: \"\";position: absolute;border-left: 1px solid gray;box-sizing: border-box;top: 0;bottom: 0;left: 50%;z-index: 0;}#sk-container-id-3 div.sk-serial {display: flex;flex-direction: column;align-items: center;background-color: white;padding-right: 0.2em;padding-left: 0.2em;position: relative;}#sk-container-id-3 div.sk-item {position: relative;z-index: 1;}#sk-container-id-3 div.sk-parallel {display: flex;align-items: stretch;justify-content: center;background-color: white;position: relative;}#sk-container-id-3 div.sk-item::before, #sk-container-id-3 div.sk-parallel-item::before {content: \"\";position: absolute;border-left: 1px solid gray;box-sizing: border-box;top: 0;bottom: 0;left: 50%;z-index: -1;}#sk-container-id-3 div.sk-parallel-item {display: flex;flex-direction: column;z-index: 1;position: relative;background-color: white;}#sk-container-id-3 div.sk-parallel-item:first-child::after {align-self: flex-end;width: 50%;}#sk-container-id-3 div.sk-parallel-item:last-child::after {align-self: flex-start;width: 50%;}#sk-container-id-3 div.sk-parallel-item:only-child::after {width: 0;}#sk-container-id-3 div.sk-dashed-wrapped {border: 1px dashed gray;margin: 0 0.4em 0.5em 0.4em;box-sizing: border-box;padding-bottom: 0.4em;background-color: white;}#sk-container-id-3 div.sk-label label {font-family: monospace;font-weight: bold;display: inline-block;line-height: 1.2em;}#sk-container-id-3 div.sk-label-container {text-align: center;}#sk-container-id-3 div.sk-container {/* jupyter's `normalize.less` sets `[hidden] { display: none; }` but bootstrap.min.css set `[hidden] { display: none !important; }` so we also need the `!important` here to be able to override the default hidden behavior on the sphinx rendered scikit-learn.org. See: https://github.com/scikit-learn/scikit-learn/issues/21755 */display: inline-block !important;position: relative;}#sk-container-id-3 div.sk-text-repr-fallback {display: none;}</style><div id=\"sk-container-id-3\" class=\"sk-top-container\"><div class=\"sk-text-repr-fallback\"><pre>LinearRegression(n_jobs=2)</pre><b>In a Jupyter environment, please rerun this cell to show the HTML representation or trust the notebook. <br />On GitHub, the HTML representation is unable to render, please try loading this page with nbviewer.org.</b></div><div class=\"sk-container\" hidden><div class=\"sk-item\"><div class=\"sk-estimator sk-toggleable\"><input class=\"sk-toggleable__control sk-hidden--visually\" id=\"sk-estimator-id-3\" type=\"checkbox\" checked><label for=\"sk-estimator-id-3\" class=\"sk-toggleable__label sk-toggleable__label-arrow\">LinearRegression</label><div class=\"sk-toggleable__content\"><pre>LinearRegression(n_jobs=2)</pre></div></div></div></div></div>"
      ],
      "text/plain": [
       "LinearRegression(n_jobs=2)"
      ]
     },
     "execution_count": 78,
     "metadata": {},
     "output_type": "execute_result"
    }
   ],
   "source": [
    "model = SKLinearRegression(n_jobs=2)\n",
    "model.fit(X_train,y_train)"
   ]
  },
  {
   "cell_type": "code",
   "execution_count": 79,
   "metadata": {},
   "outputs": [
    {
     "name": "stdout",
     "output_type": "stream",
     "text": [
      "MSE :  4.020539317290363\n",
      "Score :  0.6912414243603853\n"
     ]
    }
   ],
   "source": [
    "from sklearn.metrics import mean_squared_error, r2_score\n",
    "\n",
    "y_pred = model.predict(X_test)\n",
    "print(\"MSE : \",mean_squared_error(y_pred , y_test))\n",
    "print(\"Score : \",r2_score(y_test, y_pred))"
   ]
  },
  {
   "cell_type": "markdown",
   "metadata": {},
   "source": [
    "## V. Tự xây dựng các thuật toán tối ưu Gradient Descent, Stochastic Gradient Descent và Mini Batch Gradient Descent cho mô hình Linear Regression"
   ]
  },
  {
   "cell_type": "markdown",
   "metadata": {},
   "source": [
    "### Linear Regression"
   ]
  },
  {
   "cell_type": "code",
   "execution_count": 98,
   "metadata": {},
   "outputs": [],
   "source": [
    "class LinearRegression:\n",
    "    def __init__(self, optimizer, step_size, steps=100, benchmark_enabled=True, alpha=0.5, beta=0.5, backtracking_enabled=False, tol=10e-3, early_stopping=False):\n",
    "        self.optimizer = optimizer\n",
    "        self.step_size = step_size\n",
    "        self.steps = steps\n",
    "        self.params = None\n",
    "        self.cost_t_values = list()\n",
    "        self.cost_v_values = list()\n",
    "        self.fitting_time = None\n",
    "        self.benchmark_enabled = benchmark_enabled\n",
    "        self.alpha = alpha\n",
    "        self.beta = beta\n",
    "        self.backtracking_enabled = backtracking_enabled\n",
    "        \n",
    "    def fit(self, X_train, y_train, X_test, y_test):\n",
    "        start_time = time.time()\n",
    "        X_train = np.concatenate((X_train, np.ones((X_train.shape[0], 1))), axis=1)\n",
    "        X_test = np.concatenate((X_test, np.ones((X_test.shape[0], 1))), axis=1)\n",
    "        self.params = self.optimizer(X_train, y_train, X_test, y_test, self)\n",
    "        self.fitting_time = time.time() - start_time\n",
    "        \n",
    "    def predict(self, X):\n",
    "        X = np.concatenate((X, np.ones((X.shape[0], 1))), axis=1)\n",
    "        y_pred = np.dot(X, self.params)\n",
    "        return y_pred\n",
    "    \n",
    "    @staticmethod\n",
    "    def gradient(X, y_pred, y):\n",
    "        N = y.shape[0]\n",
    "        return 2/ N * np.dot(X.transpose(),(y_pred - y))\n",
    "    \n",
    "    @staticmethod\n",
    "    def hessian(N):\n",
    "        return 1/ N * np.dot(X.transpose(), X)\n",
    "    \n",
    "    @staticmethod\n",
    "    def cost(y, y_pred):\n",
    "        N = y.shape[0]\n",
    "        residual = y - y_pred\n",
    "        return 1/N * np.squeeze(np.dot(residual.transpose(), residual))[()]\n",
    "    \n",
    "    def score(self, X, y):\n",
    "        y_pred = self.predict(X)\n",
    "        residual = y - y_pred\n",
    "        rss = np.squeeze(np.dot(residual.transpose(), residual))[()]\n",
    "        y_mean = np.expand_dims(np.mean(y) * np.ones(y.shape[0]), axis=1)\n",
    "        total = y - y_mean\n",
    "        tss = np.squeeze(np.dot(total.transpose() , total))[()]\n",
    "        r_score = 1 - rss/tss\n",
    "        return r_score"
   ]
  },
  {
   "cell_type": "markdown",
   "metadata": {},
   "source": [
    "### Gradient Descent"
   ]
  },
  {
   "cell_type": "code",
   "execution_count": 126,
   "metadata": {},
   "outputs": [],
   "source": [
    "def gradient_descent(X_train, y_train, X_test, y_test, model):\n",
    "    step_size, steps = model.step_size, model.steps\n",
    "    gradient, cost, cost_t_values, cost_v_values = model.gradient, model.cost, model.cost_t_values, model.cost_v_values\n",
    "    benchmark_enabled = model.benchmark_enabled\n",
    "    backtracking_enabled = model.backtracking_enabled\n",
    "    alpha, beta = model.alpha, model.beta\n",
    "    params = np.ones((X_train.shape[1], 1))\n",
    "    cost_t_value = cost(y_train, np.dot(X_train, params))\n",
    "    step_numb = 0\n",
    "    max_step_inside = 10\n",
    "    while step_numb < steps:\n",
    "        y_pred = np.dot(X_train, params)\n",
    "        if benchmark_enabled or backtracking_enabled:\n",
    "            prev_cost = cost_t_value\n",
    "            cost_t_value = cost(y_train, y_pred)\n",
    "#             cost_t_values.append(cost_t_value)\n",
    "#             cost_v_value = cost(y_test, np.dot(X_test, params))\n",
    "            cost_v_value = cost(y_train, y_pred)\n",
    "            cost_v_values.append(cost_v_value)\n",
    "            \n",
    "        grad = gradient(X_train, y_pred, y_train)\n",
    "        params -= step_size * grad\n",
    "        # Backtracking to shrink step_size\n",
    "        if backtracking_enabled:\n",
    "            grad_norm = np.linalg.norm(grad)\n",
    "            margin = alpha * step_size * grad_norm**2\n",
    "            # print(cost, prev_cost, margin, grad_norm)\n",
    "            step_inside = 0\n",
    "            while cost_t_value > prev_cost - margin:\n",
    "            # print(cost, prev_cost, margin)\n",
    "                step_size *= beta\n",
    "                params -= step_size * grad\n",
    "                y_pred = np.dot(X_train, params)\n",
    "                cost_t_value = cost(y_train, y_pred)\n",
    "                margin = alpha * step_size * grad_norm**2\n",
    "                step_inside += 1\n",
    "                if step_inside > max_step_inside: \n",
    "                    break\n",
    "        step_numb += 1\n",
    "    return params"
   ]
  },
  {
   "cell_type": "code",
   "execution_count": 124,
   "metadata": {
    "scrolled": true
   },
   "outputs": [],
   "source": [
    "# best with step size: 11, steps: 150\n",
    "lreg_with_gd = LinearRegression(gradient_descent, 10e-2, 7000, benchmark_enabled=True, backtracking_enabled=False, early_stopping=True)\n",
    "lreg_with_gd.fit(X_train,y_train, X_test, y_test)"
   ]
  },
  {
   "cell_type": "code",
   "execution_count": 125,
   "metadata": {
    "scrolled": true
   },
   "outputs": [
    {
     "name": "stdout",
     "output_type": "stream",
     "text": [
      "===================\n",
      "R^2 score on the testing set:  0.690908733268532\n",
      "Time for fitting:  3.6532158851623535\n",
      "Cost on the testing set:  4.024875437608521\n"
     ]
    },
    {
     "data": {
      "image/png": "[encoded data removed]",
      "text/plain": [
       "<Figure size 432x288 with 1 Axes>"
      ]
     },
     "metadata": {
      "needs_background": "light"
     },
     "output_type": "display_data"
    }
   ],
   "source": [
    "conclusion(lreg_with_gd)"
   ]
  },
  {
   "cell_type": "markdown",
   "metadata": {},
   "source": [
    "### Accelerated gradient"
   ]
  },
  {
   "cell_type": "code",
   "execution_count": 17,
   "metadata": {},
   "outputs": [],
   "source": []
  },
  {
   "cell_type": "code",
   "execution_count": 18,
   "metadata": {},
   "outputs": [
    {
     "ename": "NameError",
     "evalue": "name 'LogisticRegression' is not defined",
     "output_type": "error",
     "traceback": [
      "\u001b[0;31m---------------------------------------------------------------------------\u001b[0m",
      "\u001b[0;31mNameError\u001b[0m                                 Traceback (most recent call last)",
      "Input \u001b[0;32mIn [18]\u001b[0m, in \u001b[0;36m<cell line: 2>\u001b[0;34m()\u001b[0m\n\u001b[1;32m      1\u001b[0m \u001b[38;5;66;03m# best with step size 0.5, steps: 5\u001b[39;00m\n\u001b[0;32m----> 2\u001b[0m logreg_with_sgd \u001b[38;5;241m=\u001b[39m \u001b[43mLogisticRegression\u001b[49m(stochastic_gradient_descent, \u001b[38;5;241m0.5\u001b[39m, \u001b[38;5;241m5\u001b[39m)\n\u001b[1;32m      3\u001b[0m conclusion(logreg_with_sgd)\n",
      "\u001b[0;31mNameError\u001b[0m: name 'LogisticRegression' is not defined"
     ]
    }
   ],
   "source": [
    "# best with step size 0.5, steps: 5\n",
    "logreg_with_sgd = LogisticRegression(stochastic_gradient_descent, 0.5, 5)\n",
    "conclusion(logreg_with_sgd)"
   ]
  },
  {
   "cell_type": "markdown",
   "metadata": {},
   "source": [
    "### Newton"
   ]
  },
  {
   "cell_type": "code",
   "execution_count": null,
   "metadata": {},
   "outputs": [],
   "source": []
  },
  {
   "cell_type": "code",
   "execution_count": null,
   "metadata": {},
   "outputs": [],
   "source": [
    "# best with step size: 5\n",
    "logreg_with_mbgd = LogisticRegression(mini_batch_gradient_descent, 5, 100)\n",
    "conclusion(logreg_with_mbgd)"
   ]
  }
 ],
 "metadata": {
  "kernelspec": {
   "display_name": "Python 3 (ipykernel)",
   "language": "python",
   "name": "python3"
  },
  "language_info": {
   "codemirror_mode": {
    "name": "ipython",
    "version": 3
   },
   "file_extension": ".py",
   "mimetype": "text/x-python",
   "name": "python",
   "nbconvert_exporter": "python",
   "pygments_lexer": "ipython3",
   "version": "3.8.13"
  }
 },
 "nbformat": 4,
 "nbformat_minor": 1
}
